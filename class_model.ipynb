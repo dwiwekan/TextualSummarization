{
 "cells": [
  {
   "cell_type": "code",
   "execution_count": 29,
   "metadata": {},
   "outputs": [],
   "source": [
    "from flask import Flask, render_template, request, redirect, url_for, flash, jsonify\n",
    "import re\n",
    "from string import punctuation\n",
    "from keras_preprocessing.sequence import pad_sequences\n",
    "import pickle\n",
    "from keras.models import load_model\n",
    "from nltk import tokenize\n",
    "import pandas as pd\n",
    "import numpy as np\n",
    "import json\n",
    "import os\n",
    "\n",
    "os.environ['TF_CPP_MIN_LOG_LEVEL'] = '2'\n",
    "\n",
    "class TextualSummarization(object):\n",
    "    def __init__(self):\n",
    "        self.model = load_model(\"SNLI_model_final.h5\")\n",
    "        self.model.load_weights('SNLI_weight_final.hdf5')\n",
    "        self.tokenizer = pickle.load(open('tokenizer.pickle', 'rb'))\n",
    "    \n",
    "    def clean_text(self, text):\n",
    "        text = text.lower().split() # lowercase\n",
    "        text = \" \".join(text)\n",
    "        #remove punct\n",
    "        text = re.sub(\"[^A-Za-z']+\", ' ', str(text)).replace(\"'\", '')\n",
    "        text = re.sub(r\"\\bum*\\b\", \"\", text)\n",
    "        text = re.sub(r\"\\buh*\\b\", \"\", text)\n",
    "        text = re.sub(r\"won\\'t\", \"will not\", text)\n",
    "        text = re.sub(r\"can\\'t\", \"can not\", text)\n",
    "        text = re.sub(r\"can\\'t\", \"can not\", text)\n",
    "        text = re.sub(r\"n\\'t\", \" not\", text)\n",
    "        text = re.sub(r\"\\'re\", \" are\", text)\n",
    "        text = re.sub(r\"\\'s\", \" is\", text)\n",
    "        text = re.sub(r\"\\'d\", \" would\", text)\n",
    "        text = re.sub(r\"\\'ll\", \" will\", text)\n",
    "        text = re.sub(r\"\\'t\", \" not\", text)\n",
    "        text = re.sub(r\"\\'ve\", \" have\", text)\n",
    "        text = re.sub(r\"\\'m\", \" am\", text)\n",
    "        \n",
    "        text = text.translate(str.maketrans('', '', punctuation))\n",
    "        return text.strip()\n",
    "    \n",
    "    def PadSeq(self, text):\n",
    "        SentenceLen = 100\n",
    "        sequences = self.tokenizer.texts_to_sequences(text)\n",
    "        return pad_sequences(sequences, maxlen=SentenceLen, padding='post', truncating='post')\n",
    "\n",
    "    def predict(self, text, persentase, awal_akhir, posisi):\n",
    "        split = tokenize.sent_tokenize(text)\n",
    "        # Pemilihan empat skenario\n",
    "        list_kalimat = []\n",
    "        if awal_akhir == 1 and posisi == 1:\n",
    "            list_kalimat = [[split[0], i] for i in split[1:]]\n",
    "        elif awal_akhir == 1 and posisi == 2:\n",
    "            list_kalimat = [[i, split[0]] for i in split[1:]]\n",
    "        elif awal_akhir == 2 and posisi == 1:\n",
    "            list_kalimat = [[split[-1], i] for i in split[:-1]]\n",
    "        else:\n",
    "            list_kalimat = [[i, split[-1]] for i in split[:-1]]\n",
    "        df_kalimat = pd.DataFrame(list_kalimat,columns=['premis','hipotesis'])\n",
    "        if awal_akhir == 1 or awal_akhir == 2:\n",
    "            df_kalimat = df_kalimat.iloc[1:]\n",
    "        else:\n",
    "            df_kalimat = df_kalimat.iloc[:-1]\n",
    "        df_kalimat.reset_index(drop=True,inplace=True)\n",
    "\n",
    "        df_clean = df_kalimat.copy()\n",
    "        df_clean['premis'] = df_kalimat['premis'].astype(str).apply(lambda text: self.clean_text(text))\n",
    "        df_clean['hipotesis'] = df_kalimat['hipotesis'].astype(str).apply(lambda text: self.clean_text(text))\n",
    "        # insert data to tuple\n",
    "        df_clean = df_clean['premis'].tolist(),df_clean['hipotesis'].tolist()\n",
    "        # df_clean[1]\n",
    "        test_x = self.PadSeq(df_clean[0]), self.PadSeq(df_clean[1])\n",
    "        # Get result on probability\n",
    "        test_pred = self.model.predict(test_x)\n",
    "        format_string = \"{:.2f}\"\n",
    "        formatter = np.vectorize(format_string.format)\n",
    "        predictions_formatted = formatter(test_pred*100)\n",
    "        entailment_percentage = list()\n",
    "        for i in predictions_formatted:\n",
    "            entailment_percentage.append(float(i[0]))\n",
    "        # Create dataframe\n",
    "        df_kata = pd.DataFrame({'premis':df_kalimat['premis'],'hipotesis':df_kalimat['hipotesis']})\n",
    "        df_kata = df_kata.reset_index(drop=True)\n",
    "        df_pred = pd.DataFrame({'entailment':entailment_percentage})\n",
    "        df_full = pd.concat([df_kata,df_pred],axis=1)\n",
    "        prediksi_list = list(enumerate(df_full['entailment']))\n",
    "        prediksi_list.sort(key=lambda x: x[1], reverse=True) \n",
    "        # Persentase\n",
    "        jumlah_kalimat = round(len(prediksi_list)*persentase)\n",
    "\n",
    "        kalimat_ringkasan = prediksi_list[:jumlah_kalimat]\n",
    "        kalimat_ringkasan.sort(key=lambda x: x[0], reverse=False)   \n",
    "        kalimat_akhir = list()\n",
    "        for idx,row in df_full.iterrows():\n",
    "            if idx in [i[0] for i in kalimat_ringkasan]:\n",
    "                if posisi == 1:\n",
    "                    kalimat_akhir.append(row['hipotesis'])\n",
    "                else:\n",
    "                    kalimat_akhir.append(row['premis'])\n",
    "\n",
    "        if posisi == 1:\n",
    "            summary = (f\"{df_full['premis'][0]} \")\n",
    "        else:\n",
    "            summary = (f\"{df_full['hipotesis'][0]} \")\n",
    "\n",
    "        for idx,item in enumerate(kalimat_akhir):\n",
    "            if idx==0:\n",
    "                summary = summary + item\n",
    "            else:\n",
    "                summary = summary + ' '+item\n",
    "        list_df = df_full.values.tolist()\n",
    "        # list_all = ([summary, list_df])\n",
    "        return {\"summary\": summary, \"list_df\": list_df}\n"
   ]
  },
  {
   "cell_type": "code",
   "execution_count": 30,
   "metadata": {},
   "outputs": [
    {
     "ename": "KeyError",
     "evalue": "0",
     "output_type": "error",
     "traceback": [
      "\u001b[1;31m---------------------------------------------------------------------------\u001b[0m",
      "\u001b[1;31mKeyError\u001b[0m                                  Traceback (most recent call last)",
      "\u001b[1;32mf:\\Fix\\flask_api\\class_model.ipynb Cell 2\u001b[0m in \u001b[0;36m8\n\u001b[0;32m      <a href='vscode-notebook-cell:/f%3A/Fix/flask_api/class_model.ipynb#W3sZmlsZQ%3D%3D?line=5'>6</a>\u001b[0m TextPredict \u001b[39m=\u001b[39m TextualSummarization()\n\u001b[0;32m      <a href='vscode-notebook-cell:/f%3A/Fix/flask_api/class_model.ipynb#W3sZmlsZQ%3D%3D?line=6'>7</a>\u001b[0m summary \u001b[39m=\u001b[39m TextPredict\u001b[39m.\u001b[39mpredict(text, persentase, awal_akhir, posisi)\n\u001b[1;32m----> <a href='vscode-notebook-cell:/f%3A/Fix/flask_api/class_model.ipynb#W3sZmlsZQ%3D%3D?line=7'>8</a>\u001b[0m \u001b[39mprint\u001b[39m(\u001b[39mf\u001b[39m\u001b[39m'\u001b[39m\u001b[39mtext : \u001b[39m\u001b[39m{\u001b[39;00msummary[\u001b[39m0\u001b[39m]\u001b[39m}\u001b[39;00m\u001b[39m'\u001b[39m)\n",
      "\u001b[1;31mKeyError\u001b[0m: 0"
     ]
    }
   ],
   "source": [
    "text = \"Quarterly profits at US media giant TimeWarner jumped 76% to $1.13bn (£600m) for the three months to December, from $639m year-earlier. TimeWarner said fourth quarter sales rose 2% to $11.1bn from $10.9bn. Its profits were buoyed by one-off gains which offset a profit dip at Warner Bros, and less users for AOL. Time Warner said on Friday that it now owns 8% of search-engine Google. But its own internet business, AOL, had has mixed fortunes. It lost 464,000 subscribers in the fourth quarter profits were lower than in the preceding three quarters. However, the company said AOL's underlying profit before exceptional items rose 8% on the back of stronger internet advertising revenues. It hopes to increase subscribers by offering the online service free to TimeWarner internet customers and will try to sign up AOL's existing customers for high-speed broadband. TimeWarner also has to restate 2000 and 2003 results following a probe by the US Securities Exchange Commission (SEC), which is close to concluding.\"\n",
    "persentase = 0.3\n",
    "awal_akhir = 1\n",
    "posisi = 1\n",
    "\n",
    "TextPredict = TextualSummarization()\n",
    "summary = TextPredict.predict(text, persentase, awal_akhir, posisi)\n"
   ]
  },
  {
   "cell_type": "code",
   "execution_count": 34,
   "metadata": {},
   "outputs": [
    {
     "data": {
      "text/plain": [
       "'Quarterly profits at US media giant TimeWarner jumped 76% to $1.13bn (£600m) for the three months to December, from $639m year-earlier. Time Warner said on Friday that it now owns 8% of search-engine Google. TimeWarner also has to restate 2000 and 2003 results following a probe by the US Securities Exchange Commission (SEC), which is close to concluding.'"
      ]
     },
     "execution_count": 34,
     "metadata": {},
     "output_type": "execute_result"
    }
   ],
   "source": []
  },
  {
   "cell_type": "code",
   "execution_count": 28,
   "metadata": {},
   "outputs": [
    {
     "data": {
      "text/plain": [
       "[['Quarterly profits at US media giant TimeWarner jumped 76% to $1.13bn (£600m) for the three months to December, from $639m year-earlier.',\n",
       "  'Its profits were buoyed by one-off gains which offset a profit dip at Warner Bros, and less users for AOL.',\n",
       "  0.12],\n",
       " ['Quarterly profits at US media giant TimeWarner jumped 76% to $1.13bn (£600m) for the three months to December, from $639m year-earlier.',\n",
       "  'Time Warner said on Friday that it now owns 8% of search-engine Google.',\n",
       "  26.28],\n",
       " ['Quarterly profits at US media giant TimeWarner jumped 76% to $1.13bn (£600m) for the three months to December, from $639m year-earlier.',\n",
       "  'But its own internet business, AOL, had has mixed fortunes.',\n",
       "  0.65],\n",
       " ['Quarterly profits at US media giant TimeWarner jumped 76% to $1.13bn (£600m) for the three months to December, from $639m year-earlier.',\n",
       "  'It lost 464,000 subscribers in the fourth quarter profits were lower than in the preceding three quarters.',\n",
       "  0.08],\n",
       " ['Quarterly profits at US media giant TimeWarner jumped 76% to $1.13bn (£600m) for the three months to December, from $639m year-earlier.',\n",
       "  \"However, the company said AOL's underlying profit before exceptional items rose 8% on the back of stronger internet advertising revenues.\",\n",
       "  0.47],\n",
       " ['Quarterly profits at US media giant TimeWarner jumped 76% to $1.13bn (£600m) for the three months to December, from $639m year-earlier.',\n",
       "  \"It hopes to increase subscribers by offering the online service free to TimeWarner internet customers and will try to sign up AOL's existing customers for high-speed broadband.\",\n",
       "  0.0],\n",
       " ['Quarterly profits at US media giant TimeWarner jumped 76% to $1.13bn (£600m) for the three months to December, from $639m year-earlier.',\n",
       "  'TimeWarner also has to restate 2000 and 2003 results following a probe by the US Securities Exchange Commission (SEC), which is close to concluding.',\n",
       "  28.31]]"
      ]
     },
     "execution_count": 28,
     "metadata": {},
     "output_type": "execute_result"
    }
   ],
   "source": [
    "summary[1]"
   ]
  },
  {
   "cell_type": "code",
   "execution_count": 5,
   "metadata": {},
   "outputs": [
    {
     "name": "stdout",
     "output_type": "stream",
     "text": [
      "TimeWarner also has to restate 2000 and 2003 results following a probe by the US Securities Exchange Commission (SEC), which is close to concluding. Time Warner said on Friday that it now owns 8% of search-engine Google. However, the company said AOL's underlying profit before exceptional items rose 8% on the back of stronger internet advertising revenues.\n"
     ]
    }
   ],
   "source": [
    "text = \"Quarterly profits at US media giant TimeWarner jumped 76% to $1.13bn (£600m) for the three months to December, from $639m year-earlier. TimeWarner said fourth quarter sales rose 2% to $11.1bn from $10.9bn. Its profits were buoyed by one-off gains which offset a profit dip at Warner Bros, and less users for AOL. Time Warner said on Friday that it now owns 8% of search-engine Google. But its own internet business, AOL, had has mixed fortunes. It lost 464,000 subscribers in the fourth quarter profits were lower than in the preceding three quarters. However, the company said AOL's underlying profit before exceptional items rose 8% on the back of stronger internet advertising revenues. It hopes to increase subscribers by offering the online service free to TimeWarner internet customers and will try to sign up AOL's existing customers for high-speed broadband. TimeWarner also has to restate 2000 and 2003 results following a probe by the US Securities Exchange Commission (SEC), which is close to concluding.\"\n",
    "persentase = 0.3\n",
    "awal_akhir = 2\n",
    "posisi = 1\n",
    "\n",
    "TextPredict = TextualSummarization()\n",
    "summary = TextPredict.predict(text, persentase, awal_akhir, posisi)\n",
    "print(summary)"
   ]
  },
  {
   "cell_type": "code",
   "execution_count": null,
   "metadata": {},
   "outputs": [],
   "source": []
  }
 ],
 "metadata": {
  "kernelspec": {
   "display_name": "Python 3",
   "language": "python",
   "name": "python3"
  },
  "language_info": {
   "codemirror_mode": {
    "name": "ipython",
    "version": 3
   },
   "file_extension": ".py",
   "mimetype": "text/x-python",
   "name": "python",
   "nbconvert_exporter": "python",
   "pygments_lexer": "ipython3",
   "version": "3.8.10"
  },
  "orig_nbformat": 4
 },
 "nbformat": 4,
 "nbformat_minor": 2
}
